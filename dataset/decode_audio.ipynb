{
 "cells": [
  {
   "cell_type": "code",
   "execution_count": null,
   "metadata": {},
   "outputs": [],
   "source": [
    "from transformers import MimiModel, AutoFeatureExtractor\n",
    "\n",
    "feature_extractor = AutoFeatureExtractor.from_pretrained(\"kyutai/mimi\")\n",
    "model = MimiModel.from_pretrained(\"kyutai/mimi\")\n",
    "model = model.to(\"cuda\")"
   ]
  },
  {
   "cell_type": "code",
   "execution_count": 13,
   "metadata": {},
   "outputs": [],
   "source": [
    "\n",
    "import torch\n",
    "import torchaudio\n",
    "\n",
    "test_arr = np.load(\"../../fish-speech.rs/out.npy\")\n",
    "test_input = torch.from_numpy(test_arr[:,:200]).to(\"cuda\").to(torch.long).unsqueeze(0)\n",
    "\n",
    "# test_input = torch.randint(low=0, high=2048, size=(8, 175)).unsqueeze(0).to(\"cuda\")\n",
    "out_pcm = model.decode(test_input)\n",
    "torchaudio.save(\"out.wav\", out_pcm.audio_values[0].to(\"cpu\"), 24000)"
   ]
  }
 ],
 "metadata": {
  "kernelspec": {
   "display_name": ".venv",
   "language": "python",
   "name": "python3"
  },
  "language_info": {
   "codemirror_mode": {
    "name": "ipython",
    "version": 3
   },
   "file_extension": ".py",
   "mimetype": "text/x-python",
   "name": "python",
   "nbconvert_exporter": "python",
   "pygments_lexer": "ipython3",
   "version": "3.9.20"
  }
 },
 "nbformat": 4,
 "nbformat_minor": 2
}
