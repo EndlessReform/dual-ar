{
 "cells": [
  {
   "cell_type": "code",
   "execution_count": 48,
   "metadata": {},
   "outputs": [],
   "source": [
    "from datasets import load_dataset, Audio\n",
    "\n",
    "SAMPLING_RATE=24_000\n",
    "# Load the LJ Speech dataset\n",
    "dataset = load_dataset(\"MikhailT/lj-speech\")\n",
    "dataset = dataset.cast_column(\"audio\", Audio(sampling_rate=SAMPLING_RATE))\n",
    "dataset = dataset.with_format(\"torch\")\n",
    "len(dataset[\"full\"])"
   ]
  },
  {
   "cell_type": "code",
   "execution_count": 2,
   "metadata": {},
   "outputs": [
    {
     "name": "stderr",
     "output_type": "stream",
     "text": [
      "/home/ritsuko/ai/audio/dual-ar/.venv/lib/python3.9/site-packages/transformers/models/mimi/modeling_mimi.py:163: UserWarning: To copy construct from a tensor, it is recommended to use sourceTensor.clone().detach() or sourceTensor.clone().detach().requires_grad_(True), rather than torch.tensor(sourceTensor).\n",
      "  self.register_buffer(\"padding_total\", torch.tensor(kernel_size - stride, dtype=torch.int64), persistent=False)\n"
     ]
    }
   ],
   "source": [
    "from transformers import MimiModel, AutoFeatureExtractor\n",
    "\n",
    "feature_extractor = AutoFeatureExtractor.from_pretrained(\"kyutai/mimi\")\n",
    "model = MimiModel.from_pretrained(\"kyutai/mimi\")\n",
    "model = model.to(\"cuda\")\n"
   ]
  },
  {
   "cell_type": "code",
   "execution_count": 69,
   "metadata": {},
   "outputs": [
    {
     "data": {
      "text/plain": [
       "torch.Size([8, 111])"
      ]
     },
     "execution_count": 69,
     "metadata": {},
     "output_type": "execute_result"
    }
   ],
   "source": [
    "from torch.nn.utils.rnn import pad_sequence\n",
    "import math\n",
    "\n",
    "def get_target_length(arr: torch.Tensor) -> int:\n",
    "    return math.ceil(arr.size(-1) / (SAMPLING_RATE / 12.5))\n",
    "\n",
    "def batch_wav_encoder(batch_dict) -> torch.Tensor:\n",
    "    batch = batch_dict[\"audio\"]\n",
    "    target_lengths = [get_target_length(sample[\"array\"]) for sample in batch]\n",
    "    max_length = max(target_lengths)\n",
    "    # print(f\"Padding to {max_length} frames\")\n",
    "    padded_batch = pad_sequence([sample[\"array\"] for sample in batch], batch_first=True).unsqueeze(1)\n",
    "    # print(f\"Encoding tensor of shape {padded_batch.shape}\")\n",
    "\n",
    "    encoder_outputs = model.encode(padded_batch.to(\"cuda\"))\n",
    "    encoder_outputs = encoder_outputs.audio_codes[:,0:8,:].cpu()\n",
    "\n",
    "    padded_batch = padded_batch.cpu()\n",
    "    del padded_batch\n",
    "    # audio = audio.cpu()  # Moves the tensor to CPU\n",
    "    # del audio  # Deletes the tensor reference\n",
    "    torch.cuda.empty_cache()  # Clears any cached memory\n",
    "    chunked = list(torch.unbind(encoder_outputs, dim=0))\n",
    "    output = [\n",
    "        t[:, :length] for t, length in zip(chunked, target_lengths)\n",
    "    ]\n",
    "\n",
    "    return { \"codes\": output }\n",
    "\n",
    "first_item = dataset[\"full\"][0:16]\n",
    "foo = batch_wav_encoder(first_item)[\"codes\"]\n",
    "foo[9].shape\n",
    "# print(first_item)"
   ]
  },
  {
   "cell_type": "code",
   "execution_count": 71,
   "metadata": {},
   "outputs": [
    {
     "name": "stderr",
     "output_type": "stream",
     "text": [
      "Map: 100%|██████████| 13100/13100 [01:53<00:00, 115.83 examples/s]\n"
     ]
    }
   ],
   "source": [
    "dataset = dataset.map(batch_wav_encoder, batched=True, batch_size=24)"
   ]
  },
  {
   "cell_type": "code",
   "execution_count": 73,
   "metadata": {},
   "outputs": [],
   "source": [
    "dataset = dataset.remove_columns(\"audio\")"
   ]
  },
  {
   "cell_type": "code",
   "execution_count": 78,
   "metadata": {},
   "outputs": [
    {
     "name": "stderr",
     "output_type": "stream",
     "text": [
      "Saving the dataset (1/1 shards): 100%|██████████| 13100/13100 [00:00<00:00, 287139.97 examples/s]\n"
     ]
    }
   ],
   "source": [
    "dataset.save_to_disk(\"encoded_dataset\")"
   ]
  }
 ],
 "metadata": {
  "kernelspec": {
   "display_name": ".venv",
   "language": "python",
   "name": "python3"
  },
  "language_info": {
   "codemirror_mode": {
    "name": "ipython",
    "version": 3
   },
   "file_extension": ".py",
   "mimetype": "text/x-python",
   "name": "python",
   "nbconvert_exporter": "python",
   "pygments_lexer": "ipython3",
   "version": "3.9.20"
  }
 },
 "nbformat": 4,
 "nbformat_minor": 2
}
